{
 "cells": [
  {
   "cell_type": "code",
   "execution_count": 1,
   "metadata": {},
   "outputs": [],
   "source": [
    "import os\n",
    "import glob\n",
    "import json"
   ]
  },
  {
   "cell_type": "code",
   "execution_count": 2,
   "metadata": {},
   "outputs": [],
   "source": [
    "model_names = [\n",
    "    \"distilroberta-base\"\n",
    "]\n",
    "\n",
    "raw_directories = [d for d in os.listdir(os.getcwd()) if os.path.isdir(d)]\n",
    "result_directories = []\n",
    "for d in raw_directories:\n",
    "    for m in model_names:\n",
    "        if m in d:\n",
    "            result_directories.append(d)\n",
    "            break\n",
    "            \n",
    "result_directories.sort()"
   ]
  },
  {
   "cell_type": "code",
   "execution_count": 5,
   "metadata": {},
   "outputs": [
    {
     "data": {
      "text/plain": [
       "['distilroberta-base-128-128',\n",
       " 'distilroberta-base-32-128',\n",
       " 'distilroberta-base-64-128',\n",
       " 'distilroberta-base-8-128',\n",
       " 'distilroberta-base-8-512']"
      ]
     },
     "execution_count": 5,
     "metadata": {},
     "output_type": "execute_result"
    }
   ],
   "source": [
    "result_directories"
   ]
  },
  {
   "cell_type": "code",
   "execution_count": 3,
   "metadata": {},
   "outputs": [
    {
     "name": "stdout",
     "output_type": "stream",
     "text": [
      "0.16113 794\n",
      "0.05072 630\n",
      "0.087522 731\n",
      "0.024786 322\n",
      "0.067987 117\n"
     ]
    }
   ],
   "source": [
    "def load_gpu_util(dlprof_summary_file):\n",
    "    with open(dlprof_summary_file) as json_file:\n",
    "        summary = json.load(json_file)\n",
    "    gpu_util_raw = summary[\"Summary Report\"]\n",
    "    gpu_util = {\n",
    "        \"sm_util\": int(100 - gpu_util_raw[\"GPU Idle %\"][0]),\n",
    "        \"tc_util\": int(gpu_util_raw[\"Tensor Core Kernel Utilization %\"][0])\n",
    "    }\n",
    "    return gpu_util\n",
    "\n",
    "def parse_deviceQuery(gpu_hw_file):\n",
    "    lines = [line.rstrip(\"\\n\") for line in open(gpu_hw_file)]\n",
    "    for l in lines:\n",
    "        if 'Device 0: \"' in l:\n",
    "            gpu_name = l.split('Device 0: \"')[-1]\n",
    "            gpu_name = gpu_name.replace('\"', \"\").strip()\n",
    "    gpu_data = {\n",
    "        \"gpu_name\": gpu_name\n",
    "    }\n",
    "    return gpu_data\n",
    "\n",
    "def parse_pl_timings(pl_profile_file):\n",
    "    lines = [line.rstrip(\"\\n\") for line in open(pl_profile_file)]\n",
    "    mean_timings = {}\n",
    "    for l in lines[7:]:\n",
    "        if \"|\" in l:\n",
    "            l = l.split(\"|\")\n",
    "            l = [i.strip() for i in l]\n",
    "            mean_timings[l[0]] = float(l[1])\n",
    "    return mean_timings\n",
    "\n",
    "for d in result_directories:\n",
    "    # gather info\n",
    "    _d = d.split(\"-\")\n",
    "    seq_len = int(_d[-1])\n",
    "    batch_size = int(_d[-2])\n",
    "    model_name = \"-\".join(_d[:-2])\n",
    "    gpu_data = parse_deviceQuery(d+\"/gpu_hw_info.txt\")\n",
    "    gpu_name = gpu_data[\"gpu_name\"]\n",
    "    # parse results\n",
    "    gpu_util = load_gpu_util(d+\"/dlprof_summary.json\")\n",
    "    step_time = parse_pl_timings(d+\"/pl_profile.txt\")[\"optimizer_step\"]\n",
    "    fps = int(batch_size / step_time)\n",
    "    print(step_time, fps)"
   ]
  },
  {
   "cell_type": "code",
   "execution_count": null,
   "metadata": {},
   "outputs": [],
   "source": []
  }
 ],
 "metadata": {
  "kernelspec": {
   "display_name": "Python 3",
   "language": "python",
   "name": "python3"
  },
  "language_info": {
   "codemirror_mode": {
    "name": "ipython",
    "version": 3
   },
   "file_extension": ".py",
   "mimetype": "text/x-python",
   "name": "python",
   "nbconvert_exporter": "python",
   "pygments_lexer": "ipython3",
   "version": "3.6.10"
  }
 },
 "nbformat": 4,
 "nbformat_minor": 4
}
